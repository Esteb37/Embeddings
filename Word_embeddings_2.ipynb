{
  "nbformat": 4,
  "nbformat_minor": 0,
  "metadata": {
    "colab": {
      "provenance": [],
      "collapsed_sections": [
        "c2UrXsw7o5SJ",
        "xwPb7sFKsMHN",
        "j9OZkq84MjLL",
        "BUDgVwaAf55j"
      ]
    },
    "kernelspec": {
      "name": "python3",
      "display_name": "Python 3"
    },
    "language_info": {
      "name": "python"
    }
  },
  "cells": [
    {
      "cell_type": "markdown",
      "source": [
        "### Load GLOVE model"
      ],
      "metadata": {
        "id": "4ipNDKdjPtvc"
      }
    },
    {
      "cell_type": "code",
      "source": [
        "!wget http://nlp.stanford.edu/data/glove.42B.300d.zip"
      ],
      "metadata": {
        "colab": {
          "base_uri": "https://localhost:8080/"
        },
        "id": "zqBso-R0TDSd",
        "outputId": "0778c608-0036-4781-ad39-71c5ff03b3fa"
      },
      "execution_count": null,
      "outputs": [
        {
          "output_type": "stream",
          "name": "stdout",
          "text": [
            "--2022-11-05 00:00:09--  http://nlp.stanford.edu/data/glove.42B.300d.zip\n",
            "Resolving nlp.stanford.edu (nlp.stanford.edu)... 171.64.67.140\n",
            "Connecting to nlp.stanford.edu (nlp.stanford.edu)|171.64.67.140|:80... connected.\n",
            "HTTP request sent, awaiting response... 302 Found\n",
            "Location: https://nlp.stanford.edu/data/glove.42B.300d.zip [following]\n",
            "--2022-11-05 00:00:09--  https://nlp.stanford.edu/data/glove.42B.300d.zip\n",
            "Connecting to nlp.stanford.edu (nlp.stanford.edu)|171.64.67.140|:443... connected.\n",
            "HTTP request sent, awaiting response... 301 Moved Permanently\n",
            "Location: https://downloads.cs.stanford.edu/nlp/data/glove.42B.300d.zip [following]\n",
            "--2022-11-05 00:00:10--  https://downloads.cs.stanford.edu/nlp/data/glove.42B.300d.zip\n",
            "Resolving downloads.cs.stanford.edu (downloads.cs.stanford.edu)... 171.64.64.22\n",
            "Connecting to downloads.cs.stanford.edu (downloads.cs.stanford.edu)|171.64.64.22|:443... connected.\n",
            "HTTP request sent, awaiting response... 200 OK\n",
            "Length: 1877800501 (1.7G) [application/zip]\n",
            "Saving to: ‘glove.42B.300d.zip’\n",
            "\n",
            "glove.42B.300d.zip  100%[===================>]   1.75G  4.99MB/s    in 5m 53s  \n",
            "\n",
            "2022-11-05 00:06:03 (5.08 MB/s) - ‘glove.42B.300d.zip’ saved [1877800501/1877800501]\n",
            "\n"
          ]
        }
      ]
    },
    {
      "cell_type": "code",
      "source": [
        "!unzip glove*.zip"
      ],
      "metadata": {
        "colab": {
          "base_uri": "https://localhost:8080/"
        },
        "id": "TsETfZO2e5eu",
        "outputId": "5d32f93f-ac9d-4b11-adfb-40c38752fccc"
      },
      "execution_count": null,
      "outputs": [
        {
          "output_type": "stream",
          "name": "stdout",
          "text": [
            "Archive:  glove.42B.300d.zip\n",
            "  inflating: glove.42B.300d.txt      \n"
          ]
        }
      ]
    },
    {
      "cell_type": "markdown",
      "source": [
        "### Gensim"
      ],
      "metadata": {
        "id": "c2UrXsw7o5SJ"
      }
    },
    {
      "cell_type": "code",
      "source": [
        "from gensim.scripts.glove2word2vec import glove2word2vec\n",
        "glove_input_file = 'glove.42B.300d.txt'\n",
        "word2vec_output_file = 'word2vec.txt'\n",
        "# The first step is to convert the GloVe file format to the word2vec file format. \n",
        "# The only difference is the addition of a small header line. This can be done by calling the \n",
        "# glove2word2vec() function.\n",
        "\n",
        "glove2word2vec(glove_input_file, word2vec_output_file)"
      ],
      "metadata": {
        "id": "sItVfm4UomV_"
      },
      "execution_count": null,
      "outputs": []
    },
    {
      "cell_type": "code",
      "source": [
        "from gensim.models import KeyedVectors\n",
        "model = KeyedVectors.load_word2vec_format(word2vec_output_file, binary=False)\n"
      ],
      "metadata": {
        "id": "ru9Lwpk6o3TY"
      },
      "execution_count": null,
      "outputs": []
    },
    {
      "cell_type": "code",
      "source": [
        "vector = model.wv.__getitem__([\"word\"])\n",
        "vector\n"
      ],
      "metadata": {
        "colab": {
          "base_uri": "https://localhost:8080/"
        },
        "id": "L7FBAQ4OpBVT",
        "outputId": "208b12ba-075c-4296-8c29-f31a6fd06fb0"
      },
      "execution_count": null,
      "outputs": [
        {
          "output_type": "stream",
          "name": "stderr",
          "text": [
            "/usr/local/lib/python3.7/dist-packages/ipykernel_launcher.py:1: DeprecationWarning: Call to deprecated `wv` (Attribute will be removed in 4.0.0, use self instead).\n",
            "  \"\"\"Entry point for launching an IPython kernel.\n"
          ]
        },
        {
          "output_type": "execute_result",
          "data": {
            "text/plain": [
              "array([[-1.3142e-01, -2.7446e-01,  2.3117e-03,  3.8385e-02, -4.4652e-01,\n",
              "        -5.9866e-02, -3.3413e+00,  5.8563e-01,  4.8697e-02, -8.8974e-02,\n",
              "         9.9224e-02, -1.8718e-01,  1.6412e-01, -1.9177e-01, -6.0507e-02,\n",
              "        -9.8204e-03, -2.9133e-02, -1.7755e-01,  2.1721e-01,  3.2681e-01,\n",
              "        -1.1203e-01, -1.1757e-01,  2.5316e-02,  2.4638e-01,  2.3976e-01,\n",
              "         3.2587e-02, -1.6208e-01, -2.0086e-01,  3.3976e-01, -8.5481e-01,\n",
              "        -2.1307e-01, -3.8614e-01,  1.6125e-01,  7.1117e-02, -2.7369e-01,\n",
              "        -9.6669e-03,  1.7033e-01,  5.0429e-02, -3.0805e-01, -2.9375e-01,\n",
              "         1.3484e-01,  4.9814e-01, -3.9112e-01,  2.0181e-02,  3.1343e-01,\n",
              "        -9.3078e-03,  6.5043e-01, -1.4882e-01,  1.7239e-02, -9.7101e-02,\n",
              "        -2.4606e-02, -3.0464e-01,  3.9072e-01, -1.8133e-01,  8.4682e-02,\n",
              "         2.6506e-01, -1.8295e-01,  5.4148e-01, -2.4119e-01, -8.1899e-01,\n",
              "         3.7655e-01, -1.3297e-01,  2.0909e-01, -2.5238e-01, -4.8371e-01,\n",
              "         2.6553e-01,  2.5481e-01, -2.7843e-03, -4.6484e-01,  3.8899e-01,\n",
              "        -1.6916e-01,  2.5562e-01, -8.3455e-02, -8.3595e-02, -1.9670e-01,\n",
              "         3.7696e-02, -1.3078e-01,  4.0522e-01,  2.3975e-01, -8.1907e-01,\n",
              "        -5.7809e-01, -5.4090e-01,  1.2565e-01, -3.6201e-01,  3.0229e-01,\n",
              "        -4.9707e-01, -5.7570e-01, -2.9426e-02, -1.6739e-01, -8.6962e-02,\n",
              "        -3.2826e-01,  1.7211e-01,  2.1641e-01, -3.6572e-01, -6.3184e-02,\n",
              "         5.2877e-01, -2.2574e+00,  3.2433e-01,  6.9844e-02, -1.2434e-01,\n",
              "        -2.3688e-01,  2.3739e-01, -1.0562e-01,  7.8883e-02,  1.1691e-01,\n",
              "         2.4506e-01,  1.5523e-01,  4.0889e-01, -2.6495e-01,  2.0700e-01,\n",
              "        -2.6166e-01, -1.4138e-01,  1.2725e-01,  4.6494e-01,  1.6615e-02,\n",
              "         1.4952e-01,  4.7754e-01, -1.0122e-01,  5.4854e-02, -2.7464e-01,\n",
              "        -2.0138e-01,  4.5279e-01,  4.7485e-01,  6.0985e-01,  6.6934e-01,\n",
              "        -5.3093e-01, -2.2933e-01, -3.5439e-02,  1.0890e-01,  3.1231e-01,\n",
              "        -8.4699e-01,  5.0328e-01, -3.2207e-01, -1.0860e-01,  4.6173e-01,\n",
              "        -3.7372e-01,  4.3448e-01,  5.0496e-03, -1.1520e-01,  2.5707e-01,\n",
              "         4.3002e-01,  4.3826e-01,  3.2427e-01, -4.0568e-01, -3.6588e-01,\n",
              "        -3.7234e-01,  4.3176e-01,  8.1894e-01,  2.2854e-01, -3.9217e-01,\n",
              "        -4.9786e-01,  1.4218e-01, -3.4141e-01, -2.2982e-01,  6.1637e-02,\n",
              "         1.6726e-01, -4.2192e-01,  1.9565e-01,  1.2669e-03,  6.2333e-01,\n",
              "        -5.5623e-02, -2.9883e-01, -3.6053e-01, -8.0731e-02,  2.8329e-02,\n",
              "        -2.6204e-01, -6.3424e-02, -1.8485e-01,  3.8573e-01,  3.2238e-01,\n",
              "         3.9577e-01,  1.3402e-02,  3.1551e-01, -4.2182e-01,  3.9523e-01,\n",
              "         6.3403e-01,  5.0532e-01, -2.3105e-01, -5.1279e-01,  2.3416e-01,\n",
              "        -5.6484e-02,  2.0995e-01, -9.4483e-02, -3.8053e-01, -4.8897e-02,\n",
              "         1.7584e-01, -1.6402e-01, -6.4424e-01,  2.2919e-01,  2.8048e-01,\n",
              "         2.3332e-01,  5.6396e-02,  1.1289e-01,  1.1426e-01,  5.1288e-01,\n",
              "         2.8705e-01, -8.7696e-02, -1.8362e-01,  4.4164e-01, -7.3334e-01,\n",
              "        -3.5063e-01, -9.5564e-02, -5.7181e-01,  6.8279e-02, -1.2892e-03,\n",
              "        -1.6981e-01,  8.0407e-03, -2.0765e-01,  7.0282e-01, -1.0078e-01,\n",
              "         8.4164e-02,  4.0094e-01,  4.3990e-01,  6.9478e-01, -4.2402e-01,\n",
              "        -2.9965e-03, -4.0571e-01,  8.0725e-02,  9.5084e-02, -4.7287e-02,\n",
              "        -1.8519e-02, -2.6819e-01,  1.3652e-01,  2.3319e-01, -1.9846e+00,\n",
              "         2.7651e-01, -5.3829e-01, -2.5235e-01, -4.4846e-01, -2.2431e-01,\n",
              "        -5.7791e-01,  1.9348e-01,  3.0058e-01, -4.5563e-01,  2.0441e-01,\n",
              "        -1.3305e-01, -7.9370e-02, -3.5988e-01,  9.7092e-02, -4.7079e-01,\n",
              "        -6.1342e-02,  7.5119e-02, -6.4042e-01,  1.3247e-01, -1.5686e-01,\n",
              "         2.7344e-01, -1.6248e-01,  3.6406e-01,  3.2717e-01, -1.9798e-01,\n",
              "         2.0937e-01, -2.3957e-01,  1.0085e-01,  1.6008e-01,  1.0068e-01,\n",
              "         2.1318e-01, -1.9294e-01,  3.5407e-01, -2.8771e-01,  1.3920e-01,\n",
              "        -3.2319e-01, -5.0204e-01, -3.9161e-02, -1.9448e-01, -3.3294e-01,\n",
              "        -1.8529e-01,  3.7377e-02, -4.1877e-01, -1.0645e-01,  2.4348e-01,\n",
              "         4.0513e-01, -1.1065e-01, -6.9116e-01,  3.8732e-01, -7.5623e-02,\n",
              "         4.9163e-02,  2.9004e-01,  3.2691e-01, -9.6563e-02, -8.7174e-02,\n",
              "         9.4733e-02,  3.2807e-01, -3.2053e-01,  7.0147e-01, -1.0076e-01,\n",
              "        -1.0484e-01, -3.0682e-02, -2.1096e-01, -1.3228e-01,  1.2154e-01,\n",
              "         3.7774e-02,  9.5496e-03,  2.9672e-01,  3.9644e-01, -2.4890e-01,\n",
              "        -1.8963e-01, -1.3911e-01,  8.1631e-02, -2.8103e-01,  1.7454e-01]],\n",
              "      dtype=float32)"
            ]
          },
          "metadata": {},
          "execution_count": 29
        }
      ]
    },
    {
      "cell_type": "markdown",
      "source": [
        "### Paper\n"
      ],
      "metadata": {
        "id": "r_T-3QvanYUV"
      }
    },
    {
      "cell_type": "code",
      "execution_count": null,
      "metadata": {
        "id": "41jrPL1gPkzn"
      },
      "outputs": [],
      "source": [
        "import numpy as np\n",
        "\n",
        "def loadGloveModel(filepath):\n",
        "    f = open(filepath,'r')\n",
        "    model = {}\n",
        "    for line in f:\n",
        "        splitLine = line.split()\n",
        "        word = splitLine[0]\n",
        "        embedding = np.array([float(val) for val in splitLine[1:]])\n",
        "        model[word] = embedding\n",
        "    return model\n",
        "\n",
        "glove_filepath_42B =\"glove.42B.300d.txt\"\n",
        "\n",
        "GloVe_Model_42B = loadGloveModel(glove_filepath_42B) # dict w/ words as keys and values as vectors (takes about 3 minutes)\n",
        "\n"
      ]
    },
    {
      "cell_type": "code",
      "source": [
        "def glove(input_list):\n",
        "    \"\"\"\n",
        "    Returns 300d GloVe vector corresponding to word(s)\n",
        "    \"\"\"\n",
        "    return [GloVe_Model_42B[word] for word in input_list]"
      ],
      "metadata": {
        "id": "dn05Y3kiQd12"
      },
      "execution_count": null,
      "outputs": []
    },
    {
      "cell_type": "code",
      "source": [],
      "metadata": {
        "id": "K2Z6rwT5rpbi"
      },
      "execution_count": null,
      "outputs": []
    },
    {
      "cell_type": "markdown",
      "source": [
        "### Generate feature vector\n"
      ],
      "metadata": {
        "id": "ahigEGs3P4FP"
      }
    },
    {
      "cell_type": "code",
      "source": [
        "def get_feature_vector(a, b):\n",
        "    \"\"\"\n",
        "    a: list of length n of words on one end of the feature continuum\n",
        "    b: list of length m of words on the other end of the continuum\n",
        "\n",
        "    example:\n",
        "    get_feature_vector([\"small\", \"little\", \"tiny\"], [\"large\", \"big\", \"huge\"])\n",
        "    \n",
        "    \"\"\"\n",
        "\n",
        "    # generate list of GloVe embeddings for each end of continuum\n",
        "    A = glove(a)\n",
        "    B = glove(b)\n",
        "\n",
        "    # generate the n x m possible vector differences (\"lines\") between the two ends\n",
        "    lines = [] # will be a (n x m, 300) matrix\n",
        "    for A_i in A:\n",
        "        for B_j in B:\n",
        "            lines.append(B_j - A_i)\n",
        "\n",
        "    # generate the average of the n x m differences\n",
        "    feature_vector = np.mean(np.array(lines), axis = 0) # shape (300,)\n",
        "    return feature_vector      "
      ],
      "metadata": {
        "id": "YAzymtbLP6co"
      },
      "execution_count": null,
      "outputs": []
    },
    {
      "cell_type": "code",
      "source": [
        "size = get_feature_vector([\"small\", \"little\", \"tiny\"], [\"large\", \"big\", \"huge\"])\n",
        "len(size)\n",
        "size"
      ],
      "metadata": {
        "id": "dtmBPjvEMH9q",
        "colab": {
          "base_uri": "https://localhost:8080/"
        },
        "outputId": "b22cc6ba-2850-4b41-e7a2-2073e7c733ff"
      },
      "execution_count": null,
      "outputs": [
        {
          "output_type": "execute_result",
          "data": {
            "text/plain": [
              "array([-0.145317  ,  0.226915  ,  0.36772433, -0.29353033,  0.20897   ,\n",
              "        0.16742333,  0.1472    ,  0.00979   , -0.24802533, -0.06206   ,\n",
              "        0.313966  ,  0.22800533,  0.44550333,  0.05937861,  0.25701333,\n",
              "        0.24135033,  0.13660467,  0.17128533, -0.081262  ,  0.03819767,\n",
              "        0.20666533, -0.26315367,  0.43035133,  0.00140667, -0.00197   ,\n",
              "       -0.31987077, -0.17070267, -0.16118433, -0.00973113,  0.36155967,\n",
              "       -0.09408933,  0.28139667,  0.35822733, -0.42700147,  0.14448333,\n",
              "        0.07060233, -0.006772  ,  0.297923  , -0.1878324 ,  0.02248933,\n",
              "       -0.093728  ,  0.18374467,  0.34936967, -0.47867933, -0.23660333,\n",
              "       -0.069911  ,  0.13069673, -0.16353333, -0.413019  ,  0.07320817,\n",
              "       -0.5495    ,  0.40508933, -0.225095  , -0.24696507,  0.33495133,\n",
              "       -0.15584   , -0.247724  , -0.02640133, -0.47907333, -0.0508377 ,\n",
              "       -0.18811513,  0.08385   ,  0.03637333, -0.2118091 ,  0.15180667,\n",
              "       -0.25014033,  0.07591333,  0.25113   ,  0.3326432 ,  0.03066   ,\n",
              "        0.22262233, -0.031048  ,  0.210923  ,  0.31306233, -0.04347   ,\n",
              "        0.52382433,  0.03282367, -0.13325   ,  0.543028  ,  0.15534233,\n",
              "       -0.36321533, -0.13015467, -0.00120333,  0.2130513 ,  0.00298   ,\n",
              "        0.08756   ,  0.247954  ,  0.01231367,  0.07202433,  0.00583967,\n",
              "        0.08376267,  0.01580133,  0.200846  ,  0.23901267,  0.24516733,\n",
              "       -0.17725   , -0.30373333, -0.02944233, -0.23875053, -0.29924467,\n",
              "       -0.18181067,  0.35010433, -0.33379033,  0.070664  , -0.05546033,\n",
              "        0.362081  , -0.12082333, -0.11784667,  0.07328067,  0.00919   ,\n",
              "       -0.65157667,  0.623778  , -0.13519667, -0.19350763, -0.25433333,\n",
              "       -0.33633458,  0.162642  ,  0.1241851 , -0.14352333,  0.11709833,\n",
              "       -0.29903667, -0.015217  , -0.55877   ,  0.19586933, -0.14843557,\n",
              "        0.11543967, -0.18668533, -0.29973333, -0.08442767, -0.252996  ,\n",
              "       -0.22598633, -0.09865333, -0.08948   ,  0.1394454 ,  0.23126067,\n",
              "       -0.72980667, -0.3241691 , -0.15920333,  0.00690667,  0.38876867,\n",
              "       -0.34223733,  0.2701    ,  0.185337  , -0.206232  , -0.01532133,\n",
              "        0.27749967,  0.240322  ,  0.27875033, -0.362878  , -0.38453253,\n",
              "        0.03758767,  0.414425  ,  0.36778933,  0.43247733, -0.6815    ,\n",
              "        0.14237667,  0.193626  ,  0.276129  ,  0.06292333, -0.053397  ,\n",
              "       -0.16970933, -0.28212667,  0.27397   , -0.223177  ,  0.116162  ,\n",
              "       -0.77275667,  0.18427966,  0.17819167,  0.38734166,  0.003725  ,\n",
              "       -0.116584  , -0.11684883, -0.05147333,  0.218928  ,  0.07717   ,\n",
              "       -0.40036833,  0.01057333,  0.02819597,  0.37685   ,  0.10873333,\n",
              "        0.07594333,  0.08100333,  0.27326573, -0.04554667,  0.22001217,\n",
              "       -0.009577  , -0.2424286 ,  0.06394133, -0.64898867,  0.292105  ,\n",
              "        0.421882  , -0.265308  , -0.52883671, -0.44837667, -0.07709733,\n",
              "        0.10145567, -0.431359  , -0.072293  ,  0.22570503,  0.09348867,\n",
              "       -0.00707567, -0.62334667,  0.27869333, -0.426247  ,  0.101154  ,\n",
              "        0.21276833, -0.277908  ,  0.04420533, -0.23062167, -0.17112167,\n",
              "       -0.09702967,  0.37298067, -0.04421667, -0.175046  , -0.29159233,\n",
              "       -0.34095933, -0.21562067,  0.06051167, -0.03071667,  0.13440586,\n",
              "        0.54524   ,  0.016301  ,  0.15656637,  0.06884   , -0.11856667,\n",
              "       -0.06419167, -0.10554367, -0.189     , -0.17663733, -0.25751033,\n",
              "        0.46277333, -0.28579233, -0.03917   , -0.422481  , -0.41685533,\n",
              "       -0.27508467, -0.276942  ,  0.31295497, -0.51189967, -0.0734    ,\n",
              "       -0.24187333, -0.20050667,  0.29318333, -0.06439   , -0.24285667,\n",
              "        0.032286  ,  0.28905333,  0.204822  , -0.10649333,  0.11850433,\n",
              "       -0.34147033,  0.03943233,  0.15761363, -0.38910467, -0.118951  ,\n",
              "       -0.533923  ,  0.33729167, -0.20193667,  0.0878628 , -0.36526547,\n",
              "        0.19468333,  0.16313767, -0.02684133,  0.08505367,  0.27352667,\n",
              "       -0.279229  , -0.12065667,  0.1221334 , -0.05609567, -0.238235  ,\n",
              "        0.47078333, -0.03960667,  0.029282  ,  0.02950967,  0.22149667,\n",
              "        0.019722  , -0.22050433,  0.04838467,  0.54474333, -0.3213887 ,\n",
              "       -0.12966667,  0.30256667,  0.049621  , -0.18982623, -0.091157  ,\n",
              "        0.00567738, -0.14071067, -0.07171   , -0.2580564 , -0.05285767,\n",
              "        0.027736  , -0.10723833,  0.02671133,  0.30646467, -0.05976293,\n",
              "        0.04656367, -0.16486257,  0.246246  ,  0.30081833, -0.18241567])"
            ]
          },
          "metadata": {},
          "execution_count": 6
        }
      ]
    },
    {
      "cell_type": "markdown",
      "source": [
        "### Generate vector for each of the ends of the feature vector"
      ],
      "metadata": {
        "id": "f6g_tQ_SFyBF"
      }
    },
    {
      "cell_type": "code",
      "source": [
        "def get_end_vector(a):\n",
        "\n",
        "  A = glove(a)\n",
        "\n",
        "  end_vector = np.mean(np.array(A), axis = 0)\n",
        "\n",
        "  return end_vector"
      ],
      "metadata": {
        "id": "WdJhkOqBFAQp"
      },
      "execution_count": null,
      "outputs": []
    },
    {
      "cell_type": "code",
      "source": [
        "small = get_end_vector([\"small\", \"little\", \"tiny\"])\n"
      ],
      "metadata": {
        "id": "FrfAwFquFiZX"
      },
      "execution_count": null,
      "outputs": []
    },
    {
      "cell_type": "markdown",
      "source": [
        "### Vector addition"
      ],
      "metadata": {
        "id": "TZFEwLWXu2H2"
      }
    },
    {
      "cell_type": "code",
      "source": [
        "def VectorAddition(a, b):\n",
        "  \n",
        "  c = np.add(a,b)\n",
        "\n",
        "  return c\n",
        "\n",
        "def VectorAdditionList(pivot, complement_words):\n",
        "  pivot = glove(pivot)\n",
        "  complement_list = glove(complement_words)\n",
        "  comp_words = []\n",
        "\n",
        "  for word in complement_list:\n",
        "    comp_words.append(VectorAddition(pivot, word))\n",
        "  return comp_words"
      ],
      "metadata": {
        "id": "AHJLe-bEu6SU"
      },
      "execution_count": null,
      "outputs": []
    },
    {
      "cell_type": "code",
      "source": [
        "types_of_dogs = VectorAdditionList([\"dog\"],[\"small\", \"big\"])\n"
      ],
      "metadata": {
        "id": "81RoRECO4_s-"
      },
      "execution_count": null,
      "outputs": []
    },
    {
      "cell_type": "markdown",
      "source": [
        "### Project words onto feature subspace"
      ],
      "metadata": {
        "id": "f5X2X9cSP_Kj"
      }
    },
    {
      "cell_type": "code",
      "source": [
        "def get_orthogonal_projection(u, v):\n",
        "    \"\"\"\n",
        "    Project vector u on vector v\n",
        "    \"\"\"\n",
        "    projection = (np.dot(u, v)/np.dot(v, v)) * v\n",
        "    return projection\n",
        "\n",
        "def get_word_projections(words, feature_set_1, feature_set_2):\n",
        "    \"\"\"\n",
        "    All params are lists of strings \n",
        "\n",
        "    example:\n",
        "    get_word_projection([\"mouse\", \"elephant\"],[\"small\", \"little\", \"tiny\"], [\"large\", \"big\", \"huge\"])\n",
        "\n",
        "    \"\"\"\n",
        "    # get GloVe embeddings of words\n",
        "    word_embeddings = glove(words)\n",
        "\n",
        "    # get feature subspace\n",
        "    feature_vector = get_feature_vector(feature_set_1, feature_set_2)\n",
        "\n",
        "    word_projections = [get_orthogonal_projection(word, feature_vector) for word in word_embeddings]\n",
        "\n",
        "    return word_projections"
      ],
      "metadata": {
        "id": "u1J7FzZPN0aA"
      },
      "execution_count": null,
      "outputs": []
    },
    {
      "cell_type": "code",
      "source": [
        "mouse_elephant = get_word_projections([\"mouse\", \"elephant\"],[\"small\", \"little\", \"tiny\"], [\"large\", \"big\", \"huge\"])\n",
        "print(mouse_elephant)"
      ],
      "metadata": {
        "id": "avrZRttCNgxq"
      },
      "execution_count": null,
      "outputs": []
    },
    {
      "cell_type": "markdown",
      "source": [
        "### Rank words along feature vector"
      ],
      "metadata": {
        "id": "CB1Y5oW51NTa"
      }
    },
    {
      "cell_type": "code",
      "source": [
        "def get_projection_score(u, v):\n",
        "    \"\"\"\n",
        "    Get a scalar magnitude of u on v\n",
        "    \"\"\"\n",
        "    projection_score = (np.dot(u, v)/np.dot(v, v))\n",
        "    return projection_score\n",
        "\n",
        "def get_scores(words, feature_set_1, feature_set_2):\n",
        "    \"\"\"\n",
        "    \n",
        "    get_scores([\"mouse\", \"elephant\"],[\"small\", \"little\", \"tiny\"], [\"large\", \"big\", \"huge\"])\n",
        "\n",
        "    \"\"\"\n",
        "    # get GloVe embeddings of words\n",
        "    word_embeddings = glove(words)\n",
        "\n",
        "    # get feature subspace\n",
        "    feature_vector = get_feature_vector(feature_set_1, feature_set_2)\n",
        "\n",
        "    # get projection scores\n",
        "    projection_scores = [get_projection_score(word, feature_vector) for word in word_embeddings]\n",
        "\n",
        "    return projection_scores"
      ],
      "metadata": {
        "id": "-bLDefak1QB5"
      },
      "execution_count": null,
      "outputs": []
    },
    {
      "cell_type": "markdown",
      "source": [
        "### Ranking compound words onto feature subspace"
      ],
      "metadata": {
        "id": "Xnv7Y_MEMaR2"
      }
    },
    {
      "cell_type": "code",
      "source": [
        "def GetProjectionScoreSum(u, v):\n",
        "    \"\"\"\n",
        "    Get a scalar magnitude of u on v\n",
        "    \"\"\"\n",
        "    projection_score_sum = (np.dot(u, v)/np.dot(v, v))\n",
        "    return projection_score_sum[0]\n",
        "\n",
        "def GetScoreSum(words, feature_set_1, feature_set_2):\n",
        "    \"\"\"\n",
        "    \n",
        "    get_scores([\"mouse\", \"elephant\"],[\"small\", \"little\", \"tiny\"], [\"large\", \"big\", \"huge\"])\n",
        "\n",
        "    \"\"\"\n",
        "\n",
        "    # get feature subspace\n",
        "    feature_vector_sum = get_feature_vector(feature_set_1, feature_set_2)\n",
        "\n",
        "    # get projection scores\n",
        "    projection_scores_sum = []\n",
        "    projection_scores_sum = [GetProjectionScoreSum(word, feature_vector_sum) for word in words]\n",
        "\n",
        "    return projection_scores_sum\n",
        "\n"
      ],
      "metadata": {
        "id": "V_IQgdVY16MB"
      },
      "execution_count": null,
      "outputs": []
    },
    {
      "cell_type": "code",
      "source": [
        "scores = GetScoreSum(types_of_dogs, [\"small\", \"little\", \"tiny\"], [\"large\", \"big\", \"huge\"])\n",
        "scores"
      ],
      "metadata": {
        "colab": {
          "base_uri": "https://localhost:8080/"
        },
        "id": "AhkhjpNbxgaY",
        "outputId": "c2fd5677-6e65-4371-f995-79a24163438d"
      },
      "execution_count": null,
      "outputs": [
        {
          "output_type": "execute_result",
          "data": {
            "text/plain": [
              "[-0.3476646489578169, 0.4565722315818102]"
            ]
          },
          "metadata": {},
          "execution_count": 115
        }
      ]
    },
    {
      "cell_type": "markdown",
      "source": [
        "### Perform PCA\n"
      ],
      "metadata": {
        "id": "iU58wYYQ36t2"
      }
    },
    {
      "cell_type": "code",
      "source": [
        "def performPCA(words, n):\n",
        "  # words must be an array of vectors produced with the function GloVe_Model_42B[word]\n",
        "  from sklearn.decomposition import PCA\n",
        "\n",
        "  arrays = np.empty((0, 300), dtype='f')\n",
        "  arrays = np.append(arrays, words, axis=0)\n",
        "\n",
        "  wordsPCA =  PCA(n_components=n).fit_transform(arrays)\n",
        "  \n",
        "  return wordsPCA\n"
      ],
      "metadata": {
        "id": "AzE1dnM7x3Bc"
      },
      "execution_count": null,
      "outputs": []
    },
    {
      "cell_type": "code",
      "source": [
        "words_PCA = [GloVe_Model_42B[\"small\"],GloVe_Model_42B[\"tiny\"],GloVe_Model_42B[\"little\"], GloVe_Model_42B[\"huge\"], GloVe_Model_42B[\"big\"], GloVe_Model_42B[\"enormous\"]]\n",
        "palabras = performPCA(words_PCA,2)\n",
        "palabras"
      ],
      "metadata": {
        "colab": {
          "base_uri": "https://localhost:8080/"
        },
        "id": "fuTRXSv2zJ-b",
        "outputId": "f90fdcb2-37fc-4b94-fab6-527bc3183491"
      },
      "execution_count": null,
      "outputs": [
        {
          "output_type": "execute_result",
          "data": {
            "text/plain": [
              "array([[-2.03259605, -0.81128267],\n",
              "       [-2.47381974, -1.7641459 ],\n",
              "       [-2.77879315,  1.58303214],\n",
              "       [ 2.79361086,  0.06028084],\n",
              "       [ 1.43749024,  2.86366594],\n",
              "       [ 3.05410784, -1.93155036]])"
            ]
          },
          "metadata": {},
          "execution_count": 10
        }
      ]
    },
    {
      "cell_type": "code",
      "source": [
        "#from sklearn.decomposition import PCA\n",
        "\n",
        "\n",
        "#arrays = np.empty((0, 300), dtype='f')\n",
        "\n",
        "    # adds the vector of the query word\n",
        "#arrays = np.append(arrays, [GloVe_Model_42B[\"mouse\"],GloVe_Model_42B[\"elephant\"],GloVe_Model_42B[\"whale\"], GloVe_Model_42B[\"dog\"], GloVe_Model_42B[\"tiny\"], size], axis=0)\n",
        "\n",
        "#principalComponents =  PCA(n_components=2).fit_transform(arrays)\n",
        "#principalComponents\n"
      ],
      "metadata": {
        "id": "ipInpR1v39L0"
      },
      "execution_count": null,
      "outputs": []
    },
    {
      "cell_type": "markdown",
      "source": [
        "### Graph vectors"
      ],
      "metadata": {
        "id": "xwPb7sFKsMHN"
      }
    },
    {
      "cell_type": "code",
      "source": [
        "def graphVectors(wordsPCA, names):\n",
        "  # wordsPCA is the output of performPCA function\n",
        "  # names is an array with the names for the word vectors in the same order as wordsPCA's output.\n",
        "\n",
        "  import numpy as np\n",
        "  import matplotlib.pyplot as plt\n",
        "    \n",
        "  # The data are given as list of lists (2d list)\n",
        "\n",
        "  # Taking transpose\n",
        "  x, y = wordsPCA.T\n",
        "      \n",
        "  # plot our list in X,Y coordinates\n",
        "  plt.scatter(x, y)\n",
        "  for i, label in enumerate(names):\n",
        "      plt.annotate(label, (x[i], y[i]))\n",
        "      \n",
        "  plt.show()"
      ],
      "metadata": {
        "id": "gDDxRhsIrWVG"
      },
      "execution_count": null,
      "outputs": []
    },
    {
      "cell_type": "code",
      "source": [
        "\n",
        "graphVectors(palabras, [\"small\", \"tiny\", \"little\", \"huge\", \"big\", \"enormous\", \"size\"] )"
      ],
      "metadata": {
        "colab": {
          "base_uri": "https://localhost:8080/",
          "height": 265
        },
        "id": "X-C0jzJD42Y1",
        "outputId": "e8fe4644-6fd3-4878-e5d5-9bc91c7d01a9"
      },
      "execution_count": null,
      "outputs": [
        {
          "output_type": "display_data",
          "data": {
            "text/plain": [
              "<Figure size 432x288 with 1 Axes>"
            ],
            "image/png": "[encoded data removed]"
          },
          "metadata": {
            "needs_background": "light"
          }
        }
      ]
    },
    {
      "cell_type": "code",
      "source": [],
      "metadata": {
        "id": "8ai0nzPjxn85"
      },
      "execution_count": null,
      "outputs": []
    },
    {
      "cell_type": "markdown",
      "source": [
        "# Images"
      ],
      "metadata": {
        "id": "j9OZkq84MjLL"
      }
    },
    {
      "cell_type": "markdown",
      "source": [
        "### Hot-cold scale"
      ],
      "metadata": {
        "id": "k1-oFCtcYAdF"
      }
    },
    {
      "cell_type": "code",
      "source": [
        "# Generate vector for each of the ends of the feature vector\n",
        "\n",
        "cold = get_end_vector([\"cold\", \"frozen\", \"icy\"])\n",
        "hot = get_end_vector([\"hot\", \"boiling\", \"burning\"])\n",
        "\n",
        "# Generate list of words to be evaluated\n",
        "\n",
        "words = [\"fire\", \"lava\", \"sun\", \"wood\", \"metal\", \"ice\", \"snow\"]\n",
        "\n",
        "PCA_words = glove(words)\n",
        "\n",
        "# Append both ends of the scale to our list\n",
        "PCA_words.append(cold)\n",
        "PCA_words.append(hot)\n",
        "\n",
        "#Perform PCA on list\n",
        "words_2D = performPCA(PCA_words, 2)\n",
        "\n"
      ],
      "metadata": {
        "id": "1nsqqG24MhVP"
      },
      "execution_count": null,
      "outputs": []
    },
    {
      "cell_type": "code",
      "source": [
        "type(PCA_words)"
      ],
      "metadata": {
        "colab": {
          "base_uri": "https://localhost:8080/"
        },
        "id": "2m5PcQ2Xh5Np",
        "outputId": "d6f6cd8c-b600-41e6-94ec-04e3c757bc12"
      },
      "execution_count": null,
      "outputs": [
        {
          "output_type": "execute_result",
          "data": {
            "text/plain": [
              "list"
            ]
          },
          "metadata": {},
          "execution_count": 25
        }
      ]
    },
    {
      "cell_type": "code",
      "source": [
        "from sympy.abc import x\n",
        "\n",
        "X, Y = words_2D.T\n",
        "\n",
        "#Define coordinates for each end of the scale\n",
        "x_c, y_c = words_2D[7].T\n",
        "x_h, y_h = words_2D[8].T\n",
        "\n",
        "#Data to produce the function\n",
        "m = (y_h - y_c) / (x_h - x_c)\n",
        "b = y_c - (m * x_c)\n",
        "F = (m * x) + b\n",
        "\n"
      ],
      "metadata": {
        "id": "uHn0ddPcIOwV"
      },
      "execution_count": null,
      "outputs": []
    },
    {
      "cell_type": "markdown",
      "source": [
        "Plot function that passes through both ends of the scale"
      ],
      "metadata": {
        "id": "nMx7hMaL9HIj"
      }
    },
    {
      "cell_type": "code",
      "source": [
        "import numpy as np\n",
        "\n",
        "def plotFunction(F):\n",
        "\n",
        "  X_axis = np.linspace(-5, 5, 100)\n",
        "  Y_axis = np.zeros_like(X_axis)\n",
        "\n",
        "  for i in range(len(X_axis)):\n",
        "    \n",
        "    Y_axis[i] = F.subs(x, X_axis[i])\n",
        "\n",
        "  return X_axis, Y_axis\n"
      ],
      "metadata": {
        "id": "d0Yd1ZCqc1W5"
      },
      "execution_count": null,
      "outputs": []
    },
    {
      "cell_type": "markdown",
      "source": [
        "Function to return query coordinates evaluated in F. Returns array with evaluated Y's."
      ],
      "metadata": {
        "id": "I1Upz3cN9PQP"
      }
    },
    {
      "cell_type": "code",
      "source": [
        "def evaluateWords(words_2D, F):\n",
        "\n",
        "  PCA_words_F = []\n",
        "\n",
        "  for word in words_2D:\n",
        "    PCA_words_F.append(F.subs(x, word[0]))\n",
        "\n",
        "  return PCA_words_F\n",
        "  "
      ],
      "metadata": {
        "id": "p29kt8Zp9SY8"
      },
      "execution_count": null,
      "outputs": []
    },
    {
      "cell_type": "code",
      "source": [
        "Y_data_F = evaluateWords(words_2D, F)\n",
        "Y_data_F"
      ],
      "metadata": {
        "colab": {
          "base_uri": "https://localhost:8080/"
        },
        "id": "fKF7bPT_AMPS",
        "outputId": "5a5eabcf-cca3-4136-bc3b-edd08f7f0f0f"
      },
      "execution_count": null,
      "outputs": [
        {
          "output_type": "execute_result",
          "data": {
            "text/plain": [
              "[0.844172746592992,\n",
              " -0.581672075876372,\n",
              " -0.000535226555458956,\n",
              " 2.32816033550972,\n",
              " 2.16049279902587,\n",
              " -1.19746276731265,\n",
              " -1.03621669206351,\n",
              " -0.928321347699914,\n",
              " 0.163585131427830]"
            ]
          },
          "metadata": {},
          "execution_count": 16
        }
      ]
    },
    {
      "cell_type": "markdown",
      "source": [
        "Plot everything"
      ],
      "metadata": {
        "id": "L1LKgotedij6"
      }
    },
    {
      "cell_type": "code",
      "source": [
        "import matplotlib.pyplot as plt\n",
        "\n",
        "#Plot words from list\n",
        "plt.scatter(X, Y)\n",
        "\n",
        "#Plot labels for words in list\n",
        "for i, label in enumerate(words):\n",
        "    plt.annotate(label, (X[i], Y[i]))\n",
        "\n",
        "#Plot cold end of the scale\n",
        "plt.scatter(x_c, y_c, color = 'yellow')\n",
        "\n",
        "#Plot hot end of the scale\n",
        "plt.scatter(x_h, y_h, color = 'orange')\n",
        "\n",
        "#Plot line connecting both ends\n",
        "plt.plot([x_c, x_h], [y_c, y_h], color = 'red')\n",
        "\n",
        "\n",
        "#Plot function connecting two points\n",
        "X_data, Y_data = plotFunction(F)\n",
        "plt.plot(X_data, Y_data,  c =\"red\" )\n",
        "\n",
        "#Plot differences between points and scale\n",
        "for i in range(len(words_2D)):\n",
        "  plt.plot([X[i], X[i]], [Y[i], Y_data_F[i]] )\n",
        "\n",
        "plt.savefig('Hot_cold_scale')\n",
        "plt.show()\n"
      ],
      "metadata": {
        "colab": {
          "base_uri": "https://localhost:8080/",
          "height": 265
        },
        "id": "N5nJKS-gWuP1",
        "outputId": "13134fbe-2332-4729-c93d-90034413dd0f"
      },
      "execution_count": null,
      "outputs": [
        {
          "output_type": "display_data",
          "data": {
            "text/plain": [
              "<Figure size 432x288 with 1 Axes>"
            ],
            "image/png": "[encoded data removed]"
          },
          "metadata": {
            "needs_background": "light"
          }
        }
      ]
    },
    {
      "cell_type": "markdown",
      "source": [
        "### Animal size"
      ],
      "metadata": {
        "id": "Y6DYnNFziXBR"
      }
    },
    {
      "cell_type": "code",
      "source": [
        "# Generate vector for each of the ends of the feature vector\n",
        "\n",
        "small = get_end_vector([\"small\", \"tiny\", \"little\"])\n",
        "big = get_end_vector([\"big\", \"huge\", \"large\"])\n",
        "\n",
        "# Generate list of words to be evaluated\n",
        "\n",
        "animals = [\"mouse\", \"hamster\", \"ant\", \"dog\", \"rhino\", \"elephant\", \"whale\"]\n",
        "PCA_animals = glove(animals)\n",
        "\n",
        "# Append both ends of the scale to our list\n",
        "PCA_animals.append(small)\n",
        "PCA_animals.append(big)\n",
        "\n",
        "#Perform PCA on list\n",
        "animals_2D = performPCA(PCA_animals,2)"
      ],
      "metadata": {
        "id": "IftVN0eViZ4M"
      },
      "execution_count": null,
      "outputs": []
    },
    {
      "cell_type": "code",
      "source": [
        "# Define x's and y's for scatter plot\n",
        "X_animals, Y_animals = animals_2D.T\n",
        "\n",
        "#Define coordinates for each end of the scale\n",
        "x_s, y_s = animals_2D[7].T\n",
        "x_b, y_b = animals_2D[8].T\n",
        "\n",
        "#Data to produce the function\n",
        "m_animals = (y_b - y_s) / (x_b - x_s)\n",
        "b_animals = y_s - (m_animals * x_s)\n",
        "F_animals = (m_animals * x) + b_animals\n",
        "\n",
        "# List of Y coordinates evaluated in F\n",
        "Y_data_F_animals = evaluateWords(animals_2D, F_animals)"
      ],
      "metadata": {
        "id": "XXTBscugiyQi"
      },
      "execution_count": null,
      "outputs": []
    },
    {
      "cell_type": "code",
      "source": [
        "import matplotlib.pyplot as plt\n",
        "\n",
        "#Plot words from list\n",
        "plt.scatter(X_animals, Y_animals)\n",
        "\n",
        "#Plot labels for words in list\n",
        "for i, label in enumerate(animals):\n",
        "    plt.annotate(label, (X_animals[i], Y_animals[i]))\n",
        "\n",
        "#Plot small end of the scale\n",
        "plt.scatter(x_s, y_s, color = 'yellow')\n",
        "\n",
        "#Plot big end of the scale\n",
        "plt.scatter(x_b, y_b)\n",
        "\n",
        "#Plot line connecting both ends\n",
        "plt.plot([x_s, x_b], [y_s, y_b], color = 'red')\n",
        "\n",
        "\n",
        "#Plot function connecting two points\n",
        "X_data_animals, Y_data_animals = plotFunction(F_animals)\n",
        "plt.plot(X_data_animals, Y_data_animals,  c =\"red\" )\n",
        "\n",
        "#Plot differences between points and scale\n",
        "for i in range(len(animals_2D)):\n",
        "  plt.plot([X_animals[i], X_animals[i]], [Y_animals[i], Y_data_F_animals[i]] )\n",
        "\n",
        "plt.savefig('animal_size_scale.png')\n",
        "plt.show()\n"
      ],
      "metadata": {
        "colab": {
          "base_uri": "https://localhost:8080/",
          "height": 265
        },
        "id": "FExvrj-3jwkZ",
        "outputId": "4d5b6da0-0059-4492-f259-e75cb10c68ca"
      },
      "execution_count": null,
      "outputs": [
        {
          "output_type": "display_data",
          "data": {
            "text/plain": [
              "<Figure size 432x288 with 1 Axes>"
            ],
            "image/png": "[encoded data removed]"
          },
          "metadata": {
            "needs_background": "light"
          }
        }
      ]
    },
    {
      "cell_type": "markdown",
      "source": [
        "### Sweet-Sour scale"
      ],
      "metadata": {
        "id": "Rg3Jgg-alOEu"
      }
    },
    {
      "cell_type": "code",
      "source": [
        "# Generate vector for each of the ends of the feature vector\n",
        "\n",
        "sweet = get_end_vector([\"sweet\", \"sugary\", \"candied\"])\n",
        "sour = get_end_vector([\"acid\", \"tart\", \"bitter\"])\n",
        "\n",
        "# Generate list of words to be evaluated\n",
        "\n",
        "food = [\"sugar\", \"honey\", \"salt\", \"lemon\", \"vinegar\", \"water\", \"milk\"]\n",
        "PCA_food = glove(food)\n",
        "\n",
        "# Append both ends of the scale to our list\n",
        "PCA_food.append(sweet)\n",
        "PCA_food.append(sour)\n",
        "\n",
        "#Perform PCA on list\n",
        "food_2D = performPCA(PCA_food,2)"
      ],
      "metadata": {
        "id": "7vvs519MlchT"
      },
      "execution_count": null,
      "outputs": []
    },
    {
      "cell_type": "code",
      "source": [
        "# Define x's and y's for scatter plot\n",
        "X_food, Y_food = food_2D.T\n",
        "\n",
        "#Define coordinates for each end of the scale\n",
        "x_sweet, y_sweet = food_2D[7].T\n",
        "x_sour, y_sour = food_2D[8].T\n",
        "\n",
        "#Data to produce the function\n",
        "m_food = (y_sour - y_sweet) / (x_sour - x_sweet)\n",
        "b_food = y_sweet - (m_food * x_sweet)\n",
        "F_food = (m_food * x) + b_food\n",
        "\n",
        "# List of Y coordinates evaluated in F\n",
        "Y_data_F_food = evaluateWords(food_2D, F_food)"
      ],
      "metadata": {
        "id": "2pdqns_bnv05"
      },
      "execution_count": null,
      "outputs": []
    },
    {
      "cell_type": "code",
      "source": [
        "#Plot words from list\n",
        "plt.scatter(X_food, Y_food)\n",
        "\n",
        "#Plot labels for words in list\n",
        "for i, label in enumerate(food):\n",
        "    plt.annotate(label, (X_food[i], Y_food[i]))\n",
        "\n",
        "#Plot small end of the scale\n",
        "plt.scatter(x_sweet, y_sweet, color = 'yellow')\n",
        "\n",
        "#Plot big end of the scale\n",
        "plt.scatter(x_sour, y_sour)\n",
        "\n",
        "#Plot line connecting both ends\n",
        "plt.plot([x_sweet, x_sour], [y_sweet, y_sour], color = 'red')\n",
        "\n",
        "\n",
        "#Plot function connecting two points\n",
        "X_data_food, Y_data_food = plotFunction(F_food)\n",
        "plt.plot(X_data_food, Y_data_food,  c =\"red\" )\n",
        "\n",
        "#Plot differences between points and scale\n",
        "for i in range(len(food_2D)):\n",
        "  plt.plot([X_food[i], X_food[i]], [Y_food[i], Y_data_F_food[i]] )\n",
        "\n",
        "\n",
        "plt.show()"
      ],
      "metadata": {
        "colab": {
          "base_uri": "https://localhost:8080/",
          "height": 268
        },
        "id": "mAHtKFuWoUWS",
        "outputId": "223ce239-d1dd-453f-c11b-e98ddcd0ea7b"
      },
      "execution_count": null,
      "outputs": [
        {
          "output_type": "display_data",
          "data": {
            "text/plain": [
              "<Figure size 432x288 with 1 Axes>"
            ],
            "image/png": "[encoded data removed]"
          },
          "metadata": {
            "needs_background": "light"
          }
        }
      ]
    },
    {
      "cell_type": "markdown",
      "source": [
        "### Justice-Injustice scale"
      ],
      "metadata": {
        "id": "wdbT8YaCpPYm"
      }
    },
    {
      "cell_type": "code",
      "source": [
        "# Generate vector for each of the ends of the feature vector\n",
        "\n",
        "justice = get_end_vector([\"justice\", \"equity\", \"legal\"])\n",
        "injustice = get_end_vector([\"injustice\", \"inequity\", \"opression\"])\n",
        "\n",
        "# Generate list of words to be evaluated\n",
        "\n",
        "words_justice = [\"gay\", \"migrant\", \"woman\", \"man\", \"american\", \"transexual\", \"latino\"]\n",
        "PCA_justice = glove(words_justice)\n",
        "\n",
        "# Append both ends of the scale to our list\n",
        "PCA_justice.append(justice)\n",
        "PCA_justice.append(injustice)\n",
        "\n",
        "#Perform PCA on list\n",
        "justice_2D = performPCA(PCA_justice,2)"
      ],
      "metadata": {
        "id": "wUVCyMe7pVAS"
      },
      "execution_count": null,
      "outputs": []
    },
    {
      "cell_type": "code",
      "source": [
        "# Define x's and y's for scatter plot\n",
        "X_justice, Y_justice = justice_2D.T\n",
        "\n",
        "#Define coordinates for each end of the scale\n",
        "x_justice, y_justice = justice_2D[7].T\n",
        "x_injustice, y_injustice = justice_2D[8].T\n",
        "\n",
        "#Data to produce the function\n",
        "m_justice = (y_injustice - y_justice) / (x_injustice - x_justice)\n",
        "b_justice = y_justice - (m_justice * x_justice)\n",
        "F_justice = (m_justice * x) + b_justice\n",
        "\n",
        "# List of Y coordinates evaluated in F\n",
        "Y_data_F_justice = evaluateWords(justice_2D, F_justice)"
      ],
      "metadata": {
        "id": "V_DJKzjvqyNs"
      },
      "execution_count": null,
      "outputs": []
    },
    {
      "cell_type": "code",
      "source": [
        "#Adjust size of plot\n",
        "plt.figure(figsize=(10,10))\n",
        "\n",
        "#Plot words from list\n",
        "plt.scatter(X_justice, Y_justice)\n",
        "\n",
        "#Plot labels for words in list\n",
        "for i, label in enumerate(words_justice):\n",
        "    plt.annotate(label, (X_justice[i], Y_justice[i]))\n",
        "\n",
        "#Plot small end of the scale\n",
        "plt.scatter(x_justice, y_justice, color = 'yellow')\n",
        "\n",
        "#Plot big end of the scale\n",
        "plt.scatter(x_injustice, y_injustice, color = 'orange')\n",
        "\n",
        "#Plot line connecting both ends\n",
        "plt.plot([x_justice, x_injustice], [y_justice, y_injustice], color = 'red')\n",
        "\n",
        "\n",
        "#Plot function connecting two points\n",
        "X_data_justice, Y_data_justice = plotFunction(F_justice)\n",
        "plt.plot(X_data_justice, Y_data_justice,  c =\"red\" )\n",
        "\n",
        "#Plot differences between points and scale\n",
        "for i in range(len(justice_2D)):\n",
        "  plt.plot([X_justice[i], X_justice[i]], [Y_justice[i], Y_data_F_justice[i]] )\n",
        "\n",
        "\n",
        "plt.savefig('justice_injustice_scale.png')\n",
        "plt.show()"
      ],
      "metadata": {
        "colab": {
          "base_uri": "https://localhost:8080/",
          "height": 592
        },
        "id": "VuOcMyjPrxgQ",
        "outputId": "6064a939-c5af-486e-bc27-a88874c870e3"
      },
      "execution_count": null,
      "outputs": [
        {
          "output_type": "display_data",
          "data": {
            "text/plain": [
              "<Figure size 720x720 with 1 Axes>"
            ],
            "image/png": "[encoded data removed]"
          },
          "metadata": {
            "needs_background": "light"
          }
        }
      ]
    },
    {
      "cell_type": "markdown",
      "source": [
        "## Find scale vector from centroids"
      ],
      "metadata": {
        "id": "BMW9oP9tTIjE"
      }
    },
    {
      "cell_type": "code",
      "source": [
        "# 1 Generate end vectors\n",
        "\n",
        "small = glove([\"small\", \"tiny\", \"little\"])\n",
        "big = glove([\"big\", \"huge\", \"large\"])\n",
        "\n",
        "small_2D = performPCA(small, 2)\n",
        "big_2D = performPCA(big, 2)\n",
        "\n",
        "x_s, y_s = small_2D[0].T\n",
        "x_t, y_t = small_2D[1].T\n",
        "x_l, y_l = small_2D[2].T\n",
        "\n",
        "x_b, y_b = small_2D[0].T\n",
        "x_h, y_h = small_2D[1].T\n",
        "x_large, y_large = big_2D[2].T\n",
        "\n"
      ],
      "metadata": {
        "id": "yxeKPazlTOou"
      },
      "execution_count": null,
      "outputs": []
    },
    {
      "cell_type": "code",
      "source": [
        "# Find centroid of small end\n",
        "\n",
        "x_avg_small = ((x_s + x_t + x_l) / 3)\n",
        "y_avg_small = ((y_s + y_t + y_l) / 3)\n",
        " \n",
        "small_centroid = [x_avg_small, y_avg_small]\n",
        " \n",
        "small_centroid\n",
        "\n",
        "# Find centroid of big end\n",
        "x_avg_big = ((x_b + x_h + x_large) / 3)\n",
        "y_avg_big = ((y_b + y_h + y_large) / 3)\n",
        " \n",
        "big_centroid = [x_avg_big, y_avg_big]\n",
        " \n",
        "big_centroid"
      ],
      "metadata": {
        "colab": {
          "base_uri": "https://localhost:8080/"
        },
        "id": "YT69AxjpceMt",
        "outputId": "5fe9ecf0-88df-4601-d7f8-bc87035e47de"
      },
      "execution_count": null,
      "outputs": [
        {
          "output_type": "execute_result",
          "data": {
            "text/plain": [
              "[0.008830016474444443, -0.054265360059708535]"
            ]
          },
          "metadata": {},
          "execution_count": 56
        }
      ]
    },
    {
      "cell_type": "code",
      "source": [
        "#Plot line between centroids\n",
        "\n",
        "x = (small_centroid[0], big_centroid[0])\n",
        "y = (small_centroid[1], big_centroid[1])\n",
        "\n",
        "plt.plot([small_centroid[0], big_centroid[0]], [small_centroid[1], big_centroid[1]])"
      ],
      "metadata": {
        "colab": {
          "base_uri": "https://localhost:8080/",
          "height": 282
        },
        "id": "HHumZSP6eGMV",
        "outputId": "c53a4b15-8ce5-41a2-fe92-4aa679ade832"
      },
      "execution_count": null,
      "outputs": [
        {
          "output_type": "execute_result",
          "data": {
            "text/plain": [
              "[<matplotlib.lines.Line2D at 0x7f420843a910>]"
            ]
          },
          "metadata": {},
          "execution_count": 57
        },
        {
          "output_type": "display_data",
          "data": {
            "text/plain": [
              "<Figure size 432x288 with 1 Axes>"
            ],
            "image/png": "[encoded data removed]"
          },
          "metadata": {
            "needs_background": "light"
          }
        }
      ]
    },
    {
      "cell_type": "markdown",
      "source": [
        "Plot animals alongside SIZE scale"
      ],
      "metadata": {
        "id": "Q_dkblT0jwZi"
      }
    },
    {
      "cell_type": "code",
      "source": [
        "animals = [\"mouse\", \"hamster\", \"ant\", \"dog\", \"rhino\", \"elephant\", \"whale\"]\n",
        "\n",
        "PCA_animals = glove(animals)\n",
        "\n",
        "#Perform PCA on list\n",
        "animals_2D = performPCA(PCA_animals, 2)\n",
        "\n",
        "x, y = animals_2D.T\n",
        "\n",
        "plt.scatter(x, y)\n",
        "plt.plot([small_centroid[0], big_centroid[0]], [small_centroid[1], big_centroid[1]], color = \"red\")\n",
        "\n",
        "for i, label in enumerate(animals):\n",
        "    plt.annotate(label, (x[i], y[i]))\n",
        "\n",
        "plt.show()"
      ],
      "metadata": {
        "colab": {
          "base_uri": "https://localhost:8080/",
          "height": 265
        },
        "id": "Zol3T5rag8Lj",
        "outputId": "3f873f1f-f07b-4131-96ba-b75df9757ddb"
      },
      "execution_count": null,
      "outputs": [
        {
          "output_type": "display_data",
          "data": {
            "text/plain": [
              "<Figure size 432x288 with 1 Axes>"
            ],
            "image/png": "[encoded data removed]"
          },
          "metadata": {
            "needs_background": "light"
          }
        }
      ]
    },
    {
      "cell_type": "code",
      "source": [
        "'''\n",
        "animals = [\"mouse\", \"hamster\", \"ant\", \"dog\", \"rhino\", \"elephant\", \"whale\"]\n",
        "small_feature = get_end_vector([\"small\", \"tiny\", \"little\"])\n",
        "big_feature = get_end_vector([\"big\", \"huge\", \"large\"])\n",
        "\n",
        "\n",
        "PCA_animals = glove(animals)\n",
        "PCA_animals.append(small_feature)\n",
        "PCA_animals.append(big_feature)\n",
        "\n",
        "\n",
        "#Perform PCA on list\n",
        "animals_2D = performPCA(PCA_animals, 2)\n",
        "\n",
        "x, y = animals_2D.T\n",
        "\n",
        "x_s, y_s = animals_2D[7].T\n",
        "x_b, y_b = animals_2D[8].T\n",
        "\n",
        "\n",
        "plt.scatter(x, y)\n",
        "plt.plot([small_centroid[0], big_centroid[0]], [small_centroid[1], big_centroid[1]], color = \"purple\")\n",
        "for i, label in enumerate(animals):\n",
        "    plt.annotate(label, (x[i], y[i]))\n",
        "\n",
        "plt.scatter(x_s, y_s)\n",
        "plt.scatter(x_b, y_b)\n",
        "plt.plot([x_s, x_b], [y_s, y_b], color = 'red')\n",
        "\n",
        "plt.show()\n",
        "'''"
      ],
      "metadata": {
        "colab": {
          "base_uri": "https://localhost:8080/",
          "height": 268
        },
        "id": "NBImT7i6l1FR",
        "outputId": "7d49653f-0792-4e40-89b5-809d9b9194db"
      },
      "execution_count": null,
      "outputs": [
        {
          "output_type": "display_data",
          "data": {
            "text/plain": [
              "<Figure size 432x288 with 1 Axes>"
            ],
            "image/png": "[encoded data removed]"
          },
          "metadata": {
            "needs_background": "light"
          }
        }
      ]
    },
    {
      "cell_type": "code",
      "source": [
        "animals = [\"mouse\", \"hamster\", \"ant\", \"dog\", \"rhino\", \"elephant\", \"whale\", \"small\", \"big\"]\n",
        "\n",
        "\n",
        "PCA_animals = glove(animals)\n",
        "\n",
        "\n",
        "#Perform PCA on list\n",
        "animals_2D = performPCA(PCA_animals, 2)\n",
        "\n",
        "x, y = animals_2D.T\n",
        "\n",
        "x_s, y_s = animals_2D[7].T\n",
        "x_b, y_b = animals_2D[8].T\n",
        "\n",
        "\n",
        "plt.scatter(x, y)\n",
        "\n",
        "for i, label in enumerate(animals):\n",
        "    plt.annotate(label, (x[i], y[i]))\n",
        "\n",
        "plt.scatter(x_s, y_s)\n",
        "plt.scatter(x_b, y_b)\n",
        "plt.plot([x_s, x_b], [y_s, y_b], color = 'red')\n",
        "\n",
        "plt.show()"
      ],
      "metadata": {
        "colab": {
          "base_uri": "https://localhost:8080/",
          "height": 265
        },
        "id": "z0XSrFPLnuX3",
        "outputId": "343b748b-9c7d-4385-daca-c45a44bb0ab9"
      },
      "execution_count": null,
      "outputs": [
        {
          "output_type": "display_data",
          "data": {
            "text/plain": [
              "<Figure size 432x288 with 1 Axes>"
            ],
            "image/png": "[encoded data removed]"
          },
          "metadata": {
            "needs_background": "light"
          }
        }
      ]
    },
    {
      "cell_type": "markdown",
      "source": [
        "https://plotly.com/python/3d-scatter-plots/\n"
      ],
      "metadata": {
        "id": "z_FAwgVg0MFS"
      }
    },
    {
      "cell_type": "code",
      "source": [
        "import plotly.graph_objects as go\n",
        "import numpy as np\n",
        "\n",
        "animals = [\"mouse\", \"hamster\", \"ant\", \"dog\", \"rhino\", \"elephant\", \"whale\", \"small\", \"big\"]\n",
        "\n",
        "\n",
        "PCA_animals = glove(animals)\n",
        "\n",
        "\n",
        "#Perform PCA on list\n",
        "animals_2D = performPCA(PCA_animals, 3)\n",
        "\n",
        "x, y, z = animals_2D.T\n",
        "\n",
        "# Helix equation\n",
        "t = np.linspace(0, 10, 50)\n",
        "\n",
        "\n",
        "data=go.Scatter3d(x=x, y=y, z=z, mode='markers+text', text = [\"mouse\", \"hamster\", \"ant\", \"dog\", \"rhino\", \"elephant\", \"whale\", \"small\", \"big\"])\n",
        "fig = go.Figure(data = data)\n",
        "\n",
        "fig.show()"
      ],
      "metadata": {
        "colab": {
          "base_uri": "https://localhost:8080/",
          "height": 542
        },
        "id": "M952w1M6qSQh",
        "outputId": "1f66de57-32b1-42f3-db3c-a485eb5244a5"
      },
      "execution_count": null,
      "outputs": [
        {
          "output_type": "display_data",
          "data": {
            "text/html": [
              "<html>\n",
              "<head><meta charset=\"utf-8\" /></head>\n",
              "<body>\n",
              "    <div>            <script src=\"https://cdnjs.cloudflare.com/ajax/libs/mathjax/2.7.5/MathJax.js?config=TeX-AMS-MML_SVG\"></script><script type=\"text/javascript\">if (window.MathJax) {MathJax.Hub.Config({SVG: {font: \"STIX-Web\"}});}</script>                <script type=\"text/javascript\">window.PlotlyConfig = {MathJaxConfig: 'local'};</script>\n",
              "        <script src=\"https://cdn.plot.ly/plotly-2.8.3.min.js\"></script>                <div id=\"329929b1-be5b-419b-8bde-acfd2f99cbc9\" class=\"plotly-graph-div\" style=\"height:525px; width:100%;\"></div>            <script type=\"text/javascript\">                                    window.PLOTLYENV=window.PLOTLYENV || {};                                    if (document.getElementById(\"329929b1-be5b-419b-8bde-acfd2f99cbc9\")) {                    Plotly.newPlot(                        \"329929b1-be5b-419b-8bde-acfd2f99cbc9\",                        [{\"mode\":\"markers+text\",\"text\":[\"mouse\",\"hamster\",\"ant\",\"dog\",\"rhino\",\"elephant\",\"whale\",\"small\",\"big\"],\"x\":[1.6295970911282784,-0.11470363418152105,-1.1197892459785963,1.7889430011913765,-3.7409504021486355,-2.378999089796567,-2.49764073517022,3.7460484465971535,2.687494568358734],\"y\":[4.018362745009845,3.823019894882048,0.6429519371170775,0.3963068319936836,-0.780615944688051,-0.8154932053588333,-2.0911060859662647,-2.1015726411682025,-3.0918535318213007],\"z\":[-1.947712043991448,1.6349975661513363,-3.2047634696524896,3.9238750412063563,-0.1857010865038997,0.7844088469380006,0.44860587662141066,-0.9900460016932243,-0.4636647290760444],\"type\":\"scatter3d\"}],                        {\"template\":{\"data\":{\"bar\":[{\"error_x\":{\"color\":\"#2a3f5f\"},\"error_y\":{\"color\":\"#2a3f5f\"},\"marker\":{\"line\":{\"color\":\"#E5ECF6\",\"width\":0.5},\"pattern\":{\"fillmode\":\"overlay\",\"size\":10,\"solidity\":0.2}},\"type\":\"bar\"}],\"barpolar\":[{\"marker\":{\"line\":{\"color\":\"#E5ECF6\",\"width\":0.5},\"pattern\":{\"fillmode\":\"overlay\",\"size\":10,\"solidity\":0.2}},\"type\":\"barpolar\"}],\"carpet\":[{\"aaxis\":{\"endlinecolor\":\"#2a3f5f\",\"gridcolor\":\"white\",\"linecolor\":\"white\",\"minorgridcolor\":\"white\",\"startlinecolor\":\"#2a3f5f\"},\"baxis\":{\"endlinecolor\":\"#2a3f5f\",\"gridcolor\":\"white\",\"linecolor\":\"white\",\"minorgridcolor\":\"white\",\"startlinecolor\":\"#2a3f5f\"},\"type\":\"carpet\"}],\"choropleth\":[{\"colorbar\":{\"outlinewidth\":0,\"ticks\":\"\"},\"type\":\"choropleth\"}],\"contour\":[{\"colorbar\":{\"outlinewidth\":0,\"ticks\":\"\"},\"colorscale\":[[0.0,\"#0d0887\"],[0.1111111111111111,\"#46039f\"],[0.2222222222222222,\"#7201a8\"],[0.3333333333333333,\"#9c179e\"],[0.4444444444444444,\"#bd3786\"],[0.5555555555555556,\"#d8576b\"],[0.6666666666666666,\"#ed7953\"],[0.7777777777777778,\"#fb9f3a\"],[0.8888888888888888,\"#fdca26\"],[1.0,\"#f0f921\"]],\"type\":\"contour\"}],\"contourcarpet\":[{\"colorbar\":{\"outlinewidth\":0,\"ticks\":\"\"},\"type\":\"contourcarpet\"}],\"heatmap\":[{\"colorbar\":{\"outlinewidth\":0,\"ticks\":\"\"},\"colorscale\":[[0.0,\"#0d0887\"],[0.1111111111111111,\"#46039f\"],[0.2222222222222222,\"#7201a8\"],[0.3333333333333333,\"#9c179e\"],[0.4444444444444444,\"#bd3786\"],[0.5555555555555556,\"#d8576b\"],[0.6666666666666666,\"#ed7953\"],[0.7777777777777778,\"#fb9f3a\"],[0.8888888888888888,\"#fdca26\"],[1.0,\"#f0f921\"]],\"type\":\"heatmap\"}],\"heatmapgl\":[{\"colorbar\":{\"outlinewidth\":0,\"ticks\":\"\"},\"colorscale\":[[0.0,\"#0d0887\"],[0.1111111111111111,\"#46039f\"],[0.2222222222222222,\"#7201a8\"],[0.3333333333333333,\"#9c179e\"],[0.4444444444444444,\"#bd3786\"],[0.5555555555555556,\"#d8576b\"],[0.6666666666666666,\"#ed7953\"],[0.7777777777777778,\"#fb9f3a\"],[0.8888888888888888,\"#fdca26\"],[1.0,\"#f0f921\"]],\"type\":\"heatmapgl\"}],\"histogram\":[{\"marker\":{\"pattern\":{\"fillmode\":\"overlay\",\"size\":10,\"solidity\":0.2}},\"type\":\"histogram\"}],\"histogram2d\":[{\"colorbar\":{\"outlinewidth\":0,\"ticks\":\"\"},\"colorscale\":[[0.0,\"#0d0887\"],[0.1111111111111111,\"#46039f\"],[0.2222222222222222,\"#7201a8\"],[0.3333333333333333,\"#9c179e\"],[0.4444444444444444,\"#bd3786\"],[0.5555555555555556,\"#d8576b\"],[0.6666666666666666,\"#ed7953\"],[0.7777777777777778,\"#fb9f3a\"],[0.8888888888888888,\"#fdca26\"],[1.0,\"#f0f921\"]],\"type\":\"histogram2d\"}],\"histogram2dcontour\":[{\"colorbar\":{\"outlinewidth\":0,\"ticks\":\"\"},\"colorscale\":[[0.0,\"#0d0887\"],[0.1111111111111111,\"#46039f\"],[0.2222222222222222,\"#7201a8\"],[0.3333333333333333,\"#9c179e\"],[0.4444444444444444,\"#bd3786\"],[0.5555555555555556,\"#d8576b\"],[0.6666666666666666,\"#ed7953\"],[0.7777777777777778,\"#fb9f3a\"],[0.8888888888888888,\"#fdca26\"],[1.0,\"#f0f921\"]],\"type\":\"histogram2dcontour\"}],\"mesh3d\":[{\"colorbar\":{\"outlinewidth\":0,\"ticks\":\"\"},\"type\":\"mesh3d\"}],\"parcoords\":[{\"line\":{\"colorbar\":{\"outlinewidth\":0,\"ticks\":\"\"}},\"type\":\"parcoords\"}],\"pie\":[{\"automargin\":true,\"type\":\"pie\"}],\"scatter\":[{\"marker\":{\"colorbar\":{\"outlinewidth\":0,\"ticks\":\"\"}},\"type\":\"scatter\"}],\"scatter3d\":[{\"line\":{\"colorbar\":{\"outlinewidth\":0,\"ticks\":\"\"}},\"marker\":{\"colorbar\":{\"outlinewidth\":0,\"ticks\":\"\"}},\"type\":\"scatter3d\"}],\"scattercarpet\":[{\"marker\":{\"colorbar\":{\"outlinewidth\":0,\"ticks\":\"\"}},\"type\":\"scattercarpet\"}],\"scattergeo\":[{\"marker\":{\"colorbar\":{\"outlinewidth\":0,\"ticks\":\"\"}},\"type\":\"scattergeo\"}],\"scattergl\":[{\"marker\":{\"colorbar\":{\"outlinewidth\":0,\"ticks\":\"\"}},\"type\":\"scattergl\"}],\"scattermapbox\":[{\"marker\":{\"colorbar\":{\"outlinewidth\":0,\"ticks\":\"\"}},\"type\":\"scattermapbox\"}],\"scatterpolar\":[{\"marker\":{\"colorbar\":{\"outlinewidth\":0,\"ticks\":\"\"}},\"type\":\"scatterpolar\"}],\"scatterpolargl\":[{\"marker\":{\"colorbar\":{\"outlinewidth\":0,\"ticks\":\"\"}},\"type\":\"scatterpolargl\"}],\"scatterternary\":[{\"marker\":{\"colorbar\":{\"outlinewidth\":0,\"ticks\":\"\"}},\"type\":\"scatterternary\"}],\"surface\":[{\"colorbar\":{\"outlinewidth\":0,\"ticks\":\"\"},\"colorscale\":[[0.0,\"#0d0887\"],[0.1111111111111111,\"#46039f\"],[0.2222222222222222,\"#7201a8\"],[0.3333333333333333,\"#9c179e\"],[0.4444444444444444,\"#bd3786\"],[0.5555555555555556,\"#d8576b\"],[0.6666666666666666,\"#ed7953\"],[0.7777777777777778,\"#fb9f3a\"],[0.8888888888888888,\"#fdca26\"],[1.0,\"#f0f921\"]],\"type\":\"surface\"}],\"table\":[{\"cells\":{\"fill\":{\"color\":\"#EBF0F8\"},\"line\":{\"color\":\"white\"}},\"header\":{\"fill\":{\"color\":\"#C8D4E3\"},\"line\":{\"color\":\"white\"}},\"type\":\"table\"}]},\"layout\":{\"annotationdefaults\":{\"arrowcolor\":\"#2a3f5f\",\"arrowhead\":0,\"arrowwidth\":1},\"autotypenumbers\":\"strict\",\"coloraxis\":{\"colorbar\":{\"outlinewidth\":0,\"ticks\":\"\"}},\"colorscale\":{\"diverging\":[[0,\"#8e0152\"],[0.1,\"#c51b7d\"],[0.2,\"#de77ae\"],[0.3,\"#f1b6da\"],[0.4,\"#fde0ef\"],[0.5,\"#f7f7f7\"],[0.6,\"#e6f5d0\"],[0.7,\"#b8e186\"],[0.8,\"#7fbc41\"],[0.9,\"#4d9221\"],[1,\"#276419\"]],\"sequential\":[[0.0,\"#0d0887\"],[0.1111111111111111,\"#46039f\"],[0.2222222222222222,\"#7201a8\"],[0.3333333333333333,\"#9c179e\"],[0.4444444444444444,\"#bd3786\"],[0.5555555555555556,\"#d8576b\"],[0.6666666666666666,\"#ed7953\"],[0.7777777777777778,\"#fb9f3a\"],[0.8888888888888888,\"#fdca26\"],[1.0,\"#f0f921\"]],\"sequentialminus\":[[0.0,\"#0d0887\"],[0.1111111111111111,\"#46039f\"],[0.2222222222222222,\"#7201a8\"],[0.3333333333333333,\"#9c179e\"],[0.4444444444444444,\"#bd3786\"],[0.5555555555555556,\"#d8576b\"],[0.6666666666666666,\"#ed7953\"],[0.7777777777777778,\"#fb9f3a\"],[0.8888888888888888,\"#fdca26\"],[1.0,\"#f0f921\"]]},\"colorway\":[\"#636efa\",\"#EF553B\",\"#00cc96\",\"#ab63fa\",\"#FFA15A\",\"#19d3f3\",\"#FF6692\",\"#B6E880\",\"#FF97FF\",\"#FECB52\"],\"font\":{\"color\":\"#2a3f5f\"},\"geo\":{\"bgcolor\":\"white\",\"lakecolor\":\"white\",\"landcolor\":\"#E5ECF6\",\"showlakes\":true,\"showland\":true,\"subunitcolor\":\"white\"},\"hoverlabel\":{\"align\":\"left\"},\"hovermode\":\"closest\",\"mapbox\":{\"style\":\"light\"},\"paper_bgcolor\":\"white\",\"plot_bgcolor\":\"#E5ECF6\",\"polar\":{\"angularaxis\":{\"gridcolor\":\"white\",\"linecolor\":\"white\",\"ticks\":\"\"},\"bgcolor\":\"#E5ECF6\",\"radialaxis\":{\"gridcolor\":\"white\",\"linecolor\":\"white\",\"ticks\":\"\"}},\"scene\":{\"xaxis\":{\"backgroundcolor\":\"#E5ECF6\",\"gridcolor\":\"white\",\"gridwidth\":2,\"linecolor\":\"white\",\"showbackground\":true,\"ticks\":\"\",\"zerolinecolor\":\"white\"},\"yaxis\":{\"backgroundcolor\":\"#E5ECF6\",\"gridcolor\":\"white\",\"gridwidth\":2,\"linecolor\":\"white\",\"showbackground\":true,\"ticks\":\"\",\"zerolinecolor\":\"white\"},\"zaxis\":{\"backgroundcolor\":\"#E5ECF6\",\"gridcolor\":\"white\",\"gridwidth\":2,\"linecolor\":\"white\",\"showbackground\":true,\"ticks\":\"\",\"zerolinecolor\":\"white\"}},\"shapedefaults\":{\"line\":{\"color\":\"#2a3f5f\"}},\"ternary\":{\"aaxis\":{\"gridcolor\":\"white\",\"linecolor\":\"white\",\"ticks\":\"\"},\"baxis\":{\"gridcolor\":\"white\",\"linecolor\":\"white\",\"ticks\":\"\"},\"bgcolor\":\"#E5ECF6\",\"caxis\":{\"gridcolor\":\"white\",\"linecolor\":\"white\",\"ticks\":\"\"}},\"title\":{\"x\":0.05},\"xaxis\":{\"automargin\":true,\"gridcolor\":\"white\",\"linecolor\":\"white\",\"ticks\":\"\",\"title\":{\"standoff\":15},\"zerolinecolor\":\"white\",\"zerolinewidth\":2},\"yaxis\":{\"automargin\":true,\"gridcolor\":\"white\",\"linecolor\":\"white\",\"ticks\":\"\",\"title\":{\"standoff\":15},\"zerolinecolor\":\"white\",\"zerolinewidth\":2}}}},                        {\"responsive\": true}                    ).then(function(){\n",
              "                            \n",
              "var gd = document.getElementById('329929b1-be5b-419b-8bde-acfd2f99cbc9');\n",
              "var x = new MutationObserver(function (mutations, observer) {{\n",
              "        var display = window.getComputedStyle(gd).display;\n",
              "        if (!display || display === 'none') {{\n",
              "            console.log([gd, 'removed!']);\n",
              "            Plotly.purge(gd);\n",
              "            observer.disconnect();\n",
              "        }}\n",
              "}});\n",
              "\n",
              "// Listen for the removal of the full notebook cells\n",
              "var notebookContainer = gd.closest('#notebook-container');\n",
              "if (notebookContainer) {{\n",
              "    x.observe(notebookContainer, {childList: true});\n",
              "}}\n",
              "\n",
              "// Listen for the clearing of the current output cell\n",
              "var outputEl = gd.closest('.output');\n",
              "if (outputEl) {{\n",
              "    x.observe(outputEl, {childList: true});\n",
              "}}\n",
              "\n",
              "                        })                };                            </script>        </div>\n",
              "</body>\n",
              "</html>"
            ]
          },
          "metadata": {}
        }
      ]
    },
    {
      "cell_type": "markdown",
      "source": [
        "Por hacer:\n",
        "* Lollipops\n",
        "* Sumas\n",
        "* Heat maps\n"
      ],
      "metadata": {
        "id": "e2hjkDeiO8a6"
      }
    },
    {
      "cell_type": "code",
      "source": [],
      "metadata": {
        "id": "7agP_gFqNWRk"
      },
      "execution_count": null,
      "outputs": []
    },
    {
      "cell_type": "markdown",
      "source": [
        "# Lollipops"
      ],
      "metadata": {
        "id": "BUDgVwaAf55j"
      }
    },
    {
      "cell_type": "markdown",
      "source": [
        "### Projection scores for compound words"
      ],
      "metadata": {
        "id": "5W_7_3_i1_pW"
      }
    },
    {
      "cell_type": "code",
      "source": [
        "import pandas as pd\n",
        "import matplotlib.pyplot as plt\n",
        "\n",
        "\n",
        "# Data frame must contain word and its respective value in the scale.\n",
        "# First we need to define the scale vector. For that we are going to use the Generate_feature_vector() function.\n",
        "\n",
        "# Now we need a function that projects words onto feature subspace. \n",
        "\n",
        "words = [\"gay\", \"migrant\", \"woman\", \"man\", \"american\", \"transexual\", \"latino\", \"king\", \"queen\", \"traitor\", \"killer\", \"outsider\", \"heterosexual\", \"lesbian\", \"bisexual\", \"pansexual\"]\n",
        "b =  [\"good\", \"valid\", \"legal\"]\n",
        "a = [\"bad\", \"odd\", \"opression\"] \n",
        "\n",
        "word_rankings = get_scores(words, a , b)\n",
        "\n",
        "words_and_projections = zip(words,word_rankings)\n",
        "\n",
        "# Create a pandas data frame\n",
        "df = pd.DataFrame(words_and_projections, columns = [\"word\", \"score\"])\n",
        "\n",
        "# Sort data frame from lowest to highest\n",
        "ordered_df = df.sort_values(by='score')\n",
        "my_range=range(1,len(df.index)+1)\n",
        "\n",
        "# For vertical plot\n",
        "'''\n",
        "# For vertical plot\n",
        "plt.stem(ordered_df['score'])\n",
        "plt.xticks( my_range, ordered_df['word'])\n",
        "plt.show()\n",
        "'''\n",
        "# For horizontal plot:\n",
        "\n",
        "# The horizontal plot is made using the hline function\n",
        "\n",
        "my_color=np.where(ordered_df['word']=='gay' , 'orange', 'skyblue')\n",
        "my_size=np.where(ordered_df['word']=='gay', 70, 30)\n",
        "\n",
        "plt.figure(figsize=(8,8))\n",
        "plt.hlines(y=my_range, xmin=0, xmax=ordered_df['score'], color=my_color, alpha=0.4)\n",
        "plt.scatter(ordered_df['score'], my_range, color=my_color, s=my_size, alpha=1)\n",
        " \n",
        "# Add titles and axis names\n",
        "plt.yticks(my_range, ordered_df['word'])\n",
        "plt.title(\"Validity scale for different entities\", loc='center')\n",
        "plt.xlabel('validity score')\n",
        "plt.ylabel('entity')\n",
        "\n",
        "# Show the plot\n",
        "plt.savefig('justice_injustice_lollipops')\n",
        "plt.show()\n",
        "\n"
      ],
      "metadata": {
        "id": "SEa3hVYFf48W",
        "colab": {
          "base_uri": "https://localhost:8080/",
          "height": 513
        },
        "outputId": "b20766e3-13d5-43b4-a83e-547e0fe98b98"
      },
      "execution_count": null,
      "outputs": [
        {
          "output_type": "display_data",
          "data": {
            "text/plain": [
              "<Figure size 576x576 with 1 Axes>"
            ],
            "image/png": "[encoded data removed]"
          },
          "metadata": {
            "needs_background": "light"
          }
        }
      ]
    },
    {
      "cell_type": "code",
      "source": [
        "a = [\"small\", \"little\", \"tiny\"]\n",
        "b =  [\"big\", \"huge\", \"large\"]\n",
        "word_labels = [\"small dog\", \"big dog\"]\n",
        "#LollipopsWordSum(types_of_dogs, word_labels, a, b, \"types of dogs\", \"size score\")"
      ],
      "metadata": {
        "id": "xuy_B9ojKJO3"
      },
      "execution_count": null,
      "outputs": []
    },
    {
      "cell_type": "markdown",
      "source": [
        "# Vector addition lollipops\n"
      ],
      "metadata": {
        "id": "-h1GOApix1DE"
      }
    },
    {
      "cell_type": "code",
      "source": [
        "import pandas as pd\n",
        "import matplotlib.pyplot as plt\n",
        "\n",
        "def LollipopsWordSum(words, word_label, a, b, title, x_axis):\n",
        "  \n",
        "  word_rankings = GetScoreSum(words, a , b)\n",
        "  words_and_projections = zip(word_label,word_rankings)\n",
        "    \n",
        "  # Create a pandas data frame\n",
        "  df = pd.DataFrame(words_and_projections, columns = [\"word\", \"score\"])\n",
        "\n",
        "  # Sort data frame from lowest to highest\n",
        "  ordered_df = df.sort_values(by='score')\n",
        "  my_range=range(1,len(df.index)+1)\n",
        "\n",
        "  # For vertical plot\n",
        "  '''\n",
        "  # For vertical plot\n",
        "  plt.stem(ordered_df['score'])\n",
        "  plt.xticks( my_range, ordered_df['word'])\n",
        "  plt.show()\n",
        "  '''\n",
        "  # For horizontal plot:\n",
        "\n",
        "  # The horizontal plot is made using the hline function\n",
        "\n",
        "  my_color=np.where(ordered_df['word']=='gay' , 'orange', 'skyblue')\n",
        "  my_size=np.where(ordered_df['word']=='gay', 70, 30)\n",
        "\n",
        "  plt.figure(figsize=(8,8))\n",
        "  plt.hlines(y=my_range, xmin=0, xmax=ordered_df['score'], color=my_color, alpha=0.4)\n",
        "  plt.scatter(ordered_df['score'], my_range, color=my_color, s=my_size, alpha=1)\n",
        "  \n",
        "  # Add titles and axis names\n",
        "  plt.yticks(my_range, ordered_df['word'])\n",
        "  plt.title(title, loc='center')\n",
        "  plt.xlabel(x_axis)\n",
        "  plt.ylabel('entity')\n",
        "\n",
        "  # Show the plot\n",
        "  plt.savefig('justice_injustice_lollipops')\n",
        "  plt.show()\n"
      ],
      "metadata": {
        "id": "u-5JZB6WMiJ5"
      },
      "execution_count": null,
      "outputs": []
    },
    {
      "cell_type": "markdown",
      "source": [
        "Lollipop for women\n"
      ],
      "metadata": {
        "id": "PGrM2OuxVDFV"
      }
    },
    {
      "cell_type": "code",
      "source": [
        "def LollipopsWordSumComparison(wordset1, wordset2, word_label, a, b, title, x_axis):\n",
        "  \n",
        "  # For word set 1:\n",
        "  word_rankings1 = GetScoreSum(wordset1, a , b)\n",
        "  words_and_projections1 = zip(word_label,word_rankings1)\n",
        "\n",
        "  # For wordset 2:\n",
        "  word_rankings2 = GetScoreSum(wordset2, a , b)\n",
        "  words_and_projections2 = zip(word_label,word_rankings2)  \n",
        "  word_rankings_1_2 = zip(word_label, word_rankings1, word_rankings2)\n",
        "\n",
        "  # Create a pandas data frame\n",
        "  df3 = pd.DataFrame(word_rankings_1_2, columns = [\"word\", \"score1\", \"score2\"])\n",
        "\n",
        "  # Sort data frame from lowest to highest\n",
        "  my_range=range(1,len(df3.index)+1)\n",
        "  ordered_df3 = df3.sort_values(by = 'score2' )\n",
        "\n",
        "  # The horizontal plot is made using the hline function\n",
        "  plt.hlines(y=my_range, xmin=ordered_df3['score2'], xmax=ordered_df3['score1'], color='grey', alpha=0.4)\n",
        "  plt.scatter(ordered_df3['score1'], my_range, color='skyblue', alpha=1, label='score1 (woman)')\n",
        "  plt.scatter(ordered_df3['score2'], my_range, color='green', alpha=0.4 , label='score2 (man)')\n",
        "  plt.legend()\n",
        "\n",
        "  # Add titles and axis names\n",
        "  plt.yticks(my_range, ordered_df3['word'])\n",
        "  plt.title(\"Comparison of the value 1 and the value 2\", loc='left')\n",
        "  plt.xlabel('Value of the variables')\n",
        "  plt.ylabel('Group')\n",
        "\n",
        "  # Show the plot\n",
        "  plt.show()"
      ],
      "metadata": {
        "id": "jjtDks9VXLtd"
      },
      "execution_count": null,
      "outputs": []
    },
    {
      "cell_type": "code",
      "source": [
        "# 1. Compute vector addition list.\n",
        "women = VectorAdditionList([\"woman\"], [\"american\", \"rich\", \"wealthy\", \"straight\", \"poor\", \"latino\", \"migrant\", \"homosexual\" ])\n",
        "men = VectorAdditionList ([\"man\"], [\"american\", \"rich\", \"wealthy\", \"straight\", \"poor\", \"latino\", \"migrant\", \"homosexual\" ])\n",
        "\n",
        "# 2. define a side of the scale.\n",
        "a = [\"refined\", \"important\", \"pretty\"]\n",
        "b = [\"irrelevant\", \"ugly\", \"gross\"]\n",
        "\n",
        "# 3. define labels for the lollipop\n",
        "labels = [\"american\", \"rich\", \"wealthy\", \"straight\", \"poor\", \"latino\", \"migrant\", \"homosexual\" ]\n",
        "\n",
        "# 4. Compute Lollipop\n",
        "\n",
        "LollipopsWordSumComparison(women, men, labels, a, b, \"women\", \"score\")\n",
        "LollipopsWordSum(women, labels, a, b, \"women\", \"score\")\n",
        "LollipopsWordSum(men, labels, a, b, \"men\", \"score\")"
      ],
      "metadata": {
        "colab": {
          "base_uri": "https://localhost:8080/",
          "height": 1000
        },
        "id": "VPvRpgyYXuZi",
        "outputId": "6a91d474-9a41-4bde-eab9-4cf28eb29364"
      },
      "execution_count": null,
      "outputs": [
        {
          "output_type": "display_data",
          "data": {
            "text/plain": [
              "<Figure size 432x288 with 1 Axes>"
            ],
            "image/png": "[encoded data removed]"
          },
          "metadata": {
            "needs_background": "light"
          }
        },
        {
          "output_type": "display_data",
          "data": {
            "text/plain": [
              "<Figure size 576x576 with 1 Axes>"
            ],
            "image/png": "[encoded data removed]"
          },
          "metadata": {
            "needs_background": "light"
          }
        },
        {
          "output_type": "display_data",
          "data": {
            "text/plain": [
              "<Figure size 576x576 with 1 Axes>"
            ],
            "image/png": "[encoded data removed]"
          },
          "metadata": {
            "needs_background": "light"
          }
        }
      ]
    }
  ]
}